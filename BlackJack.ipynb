{
 "cells": [
  {
   "cell_type": "code",
   "execution_count": 10,
   "id": "a89a051a",
   "metadata": {},
   "outputs": [],
   "source": [
    "using Pkg\n",
    "#Pkg.add(\"DataFrames\")\n",
    "#Pkg.add(\"Plots\")\n",
    "#Pkg.add(\"PyCall\")\n",
    "#Pkg.add(\"Conda\")\n",
    "using DataFrames\n",
    "using Plots\n",
    "using Conda\n",
    "#Conda.add(\"Seaborn\")\n",
    "using Seaborn\n",
    "using Random"
   ]
  },
  {
   "cell_type": "code",
   "execution_count": 19,
   "id": "019bed58",
   "metadata": {},
   "outputs": [
    {
     "data": {
      "text/plain": [
       "make_decks (generic function with 1 method)"
      ]
     },
     "execution_count": 19,
     "metadata": {},
     "output_type": "execute_result"
    }
   ],
   "source": [
    "#Make a deck\n",
    "function make_decks(num_decks,card_types)\n",
    "    new_deck = []\n",
    "    for i ∈ 1:length(num_decks)\n",
    "        for j ∈ 1:4\n",
    "            append!(new_deck,card_types)\n",
    "        end\n",
    "    end\n",
    "    Random.shuffle!(new_deck)\n",
    "    return new_deck\n",
    "end"
   ]
  },
  {
   "cell_type": "code",
   "execution_count": 26,
   "id": "ecbf3dbb",
   "metadata": {},
   "outputs": [
    {
     "name": "stdout",
     "output_type": "stream",
     "text": [
      "Any[9, 10, 8, 5, 10, 2, 9, 4, 2, 10, 4, 10, 6, 9, 2, 9, 10, 3, 1, 7, 10, 8, 10, 7, 5, 1, 3, 5, 6, 6, 3, 7, 3, 5, 4, 10, 1, 6, 4, 10, 2, 10, 7, 10, 10, 8, 10, 1, 10, 8, 10, 10]\n",
      "52\n"
     ]
    }
   ],
   "source": [
    "set = [1,2,3,4,5,6,7,8,9,10,10,10,10]\n",
    "deck = make_decks(1,set)\n",
    "println(deck)\n",
    "println(length(deck))"
   ]
  },
  {
   "cell_type": "code",
   "execution_count": 449,
   "id": "26dba8f5",
   "metadata": {},
   "outputs": [
    {
     "data": {
      "text/plain": [
       "aces (generic function with 1 method)"
      ]
     },
     "execution_count": 449,
     "metadata": {},
     "output_type": "execute_result"
    }
   ],
   "source": [
    "#aces can be either 1 or 11\n",
    "function possible(aces)\n",
    "    \n",
    "    if aces == 0\n",
    "        return 0,[[0,0]]\n",
    "    else\n",
    "        choices = aces[1]\n",
    "        x = length(choices)\n",
    "        full_length = x^length(aces)\n",
    "        sum_array = zeros(full_length,length(aces))\n",
    "\n",
    "        for i ∈ 1:length(aces)\n",
    "            n = length(aces) - (i-1) \n",
    "            split_len = Int(full_length/(x^i))\n",
    "\n",
    "            for j ∈ 0: x^(i-1)-1\n",
    "                sum_array[j*x^n+1 : j*x^n + split_len ,i] .= choices[1]\n",
    "                sum_array[j*x^n+1 + split_len : j*x^n + split_len*2 ,i] .= choices[2]\n",
    "            end\n",
    "\n",
    "        end\n",
    "\n",
    "        empty = []\n",
    "        emptybox = []\n",
    "\n",
    "        for k ∈ 1:length(sum_array[:,1])\n",
    "            if sum(sum_array[k,:]) <= 21\n",
    "                append!(emptybox,[sum_array[k,:]])\n",
    "                append!(empty,sum(sum_array[k,:]))\n",
    "            end\n",
    "        end\n",
    "\n",
    "        return empty,emptybox\n",
    "    end\n",
    "end\n",
    "\n",
    "function aces(num_aces)\n",
    "    \n",
    "    if num_aces == 0\n",
    "        return 0\n",
    "    else\n",
    "        temp_list = []\n",
    "        for i ∈ 1:num_aces\n",
    "            append!(temp_list,[[1,11]])\n",
    "        end\n",
    "\n",
    "        return temp_list\n",
    "    end\n",
    "    \n",
    "end"
   ]
  },
  {
   "cell_type": "code",
   "execution_count": 453,
   "id": "93ce318a",
   "metadata": {},
   "outputs": [
    {
     "name": "stdout",
     "output_type": "stream",
     "text": [
      "Any[[1.0], [11.0]]\n",
      "1\n",
      "0\n",
      "[[0, 0]]\n"
     ]
    }
   ],
   "source": [
    "println(possible(aces(1))[1:2][2])\n",
    "a,b = possible(aces(0))\n",
    "println(length((a)))\n",
    "println(a[1])\n",
    "println(b)"
   ]
  },
  {
   "cell_type": "code",
   "execution_count": 454,
   "id": "2a82f027",
   "metadata": {},
   "outputs": [
    {
     "data": {
      "text/plain": [
       "total_up (generic function with 1 method)"
      ]
     },
     "execution_count": 454,
     "metadata": {},
     "output_type": "execute_result"
    }
   ],
   "source": [
    "# total value of a hand\n",
    "function total_up(hand)\n",
    "    \n",
    "    ace_count = 0\n",
    "    total = 0\n",
    "    \n",
    "    for i ∈ hand\n",
    "        if i != 'A'\n",
    "            total += i\n",
    "        else\n",
    "            ace_count += 1\n",
    "        end\n",
    "    end\n",
    "    \n",
    "    ace_value_list,_ = possible(aces(ace_count))\n",
    "    final_totals = []\n",
    "    \n",
    "    for j ∈ 1:length(ace_value_list)\n",
    "        if ace_value_list[j] + total <= 21\n",
    "            append!(final_totals, ace_value_list[j] + total)\n",
    "        end\n",
    "    end\n",
    "    \n",
    "    if final_totals == []\n",
    "        return minimum(ace_value_list .+ total)\n",
    "    elseif total > 21\n",
    "        return minimum(ace_value_list .+ total)\n",
    "    else\n",
    "        return maximum(final_totals)\n",
    "    end\n",
    "    \n",
    "end"
   ]
  },
  {
   "cell_type": "code",
   "execution_count": 463,
   "id": "2d1e5541",
   "metadata": {},
   "outputs": [
    {
     "name": "stdout",
     "output_type": "stream",
     "text": [
      "Any[1.0, 11.0]\n"
     ]
    }
   ],
   "source": [
    "hand = ['A',2,3,4]\n",
    "ace_count = 0\n",
    "total = 0\n",
    "\n",
    "for i ∈ hand\n",
    "    #print(i)\n",
    "    if i != 'A'\n",
    "        total += i\n",
    "    else\n",
    "        ace_count += 1\n",
    "    end\n",
    "end\n",
    "\n",
    "ace_value_list,_ = possible(aces(ace_count))\n",
    "final_totals = []\n",
    "\n",
    "for j ∈ 1:length(ace_value_list)\n",
    "    if ace_value_list[j] + total <= 21\n",
    "        append!(final_totals, ace_value_list[j] + total)\n",
    "    end\n",
    "end\n",
    "\n",
    "println(ace_value_list)\n",
    "\n",
    "# print(final_totals)\n",
    "\n"
   ]
  },
  {
   "cell_type": "code",
   "execution_count": 462,
   "id": "34804858",
   "metadata": {},
   "outputs": [
    {
     "data": {
      "text/plain": [
       "24"
      ]
     },
     "execution_count": 462,
     "metadata": {},
     "output_type": "execute_result"
    }
   ],
   "source": [
    "total_up([2,3,4,5,10])"
   ]
  },
  {
   "cell_type": "code",
   "execution_count": 243,
   "id": "7276b887",
   "metadata": {},
   "outputs": [
    {
     "data": {
      "text/plain": [
       "make_decks (generic function with 1 method)"
      ]
     },
     "execution_count": 243,
     "metadata": {},
     "output_type": "execute_result"
    }
   ],
   "source": [
    "#Make a deck\n",
    "function make_decks(num_decks,card_types)\n",
    "    new_deck = []\n",
    "    for i ∈ 1:length(num_decks)\n",
    "        for j ∈ 1:4\n",
    "            append!(new_deck,card_types)\n",
    "        end\n",
    "    end\n",
    "    Random.shuffle!(new_deck)\n",
    "    return new_deck\n",
    "end"
   ]
  },
  {
   "cell_type": "code",
   "execution_count": 245,
   "id": "2889a405",
   "metadata": {},
   "outputs": [
    {
     "data": {
      "text/plain": [
       "52-element Vector{Any}:\n",
       "  6\n",
       "  4\n",
       "  2\n",
       "  4\n",
       "  2\n",
       "  7\n",
       " 10\n",
       " 10\n",
       " 10\n",
       "  5\n",
       "  6\n",
       " 10\n",
       "  9\n",
       "  ⋮\n",
       "  6\n",
       "  2\n",
       " 10\n",
       " 10\n",
       "  8\n",
       "  9\n",
       "  5\n",
       "   'A': ASCII/Unicode U+0041 (category Lu: Letter, uppercase)\n",
       "  2\n",
       "  8\n",
       " 10\n",
       " 10"
      ]
     },
     "execution_count": 245,
     "metadata": {},
     "output_type": "execute_result"
    }
   ],
   "source": [
    "make_decks(1,['A',2,3,4,5,6,7,8,9,10,10,10,10])"
   ]
  },
  {
   "cell_type": "code",
   "execution_count": 483,
   "id": "4a83d206",
   "metadata": {},
   "outputs": [
    {
     "ename": "LoadError",
     "evalue": "UndefVarError: input not defined",
     "output_type": "error",
     "traceback": [
      "UndefVarError: input not defined",
      "",
      "Stacktrace:",
      " [1] top-level scope",
      "   @ In[483]:2",
      " [2] eval",
      "   @ ./boot.jl:373 [inlined]",
      " [3] include_string(mapexpr::typeof(REPL.softscope), mod::Module, code::String, filename::String)",
      "   @ Base ./loading.jl:1196"
     ]
    }
   ],
   "source": [
    "stacks = 1\n",
    "players = Int(input(\"How many players?\"))\n",
    "num_decks = 1\n",
    "five_card_win = true\n",
    "gaming = 0\n",
    "correctness = 0\n",
    "player_names = []\n",
    "\n",
    "while gaming != \"Y\" || \"N\" && correctness != \"Y\"\n",
    "    gaming = strip(uppercase(input(\"Will there be real players: yes or no?\")))[1]\n",
    "    \n",
    "    if gaming == \"Y\" \n",
    "        while correctness != \"Y\" || \"N\"\n",
    "            correctness = strip(uppercase(input(\"There are real players. Is this correct: yes or no?\")))[1]\n",
    "        end\n",
    "    elseif gaming == \"N\"\n",
    "        while correctness != \"Y\" || \"N\"\n",
    "            correctness = strip(uppercase(input(\"There are no real players. Is this correct: yes or no?\")))[1]\n",
    "        end\n",
    "    end\n",
    "    \n",
    "\n",
    "end\n",
    "\n",
    "if gaming == \"Y\"\n",
    "   for i ∈ 1:players\n",
    "        correct_name = 0\n",
    "        while correct_name != \"Y\"\n",
    "            name = input(\"Name of player \",i,\"?\")\n",
    "            correct_name = strip(uppercase(input(\"Is this name correct: yes or no?\")))[1]\n",
    "        end\n",
    "        append!(player_names,name)\n",
    "end\n",
    "    \n",
    "\n",
    "card_types = ['A',2,3,4,5,6,7,8,9,10,10,10,10]\n",
    "\n",
    "#blackjack = Set(['A',10])\n",
    "# bl_1 = ['A',10]\n",
    "# bl_2 = [10,'A']\n",
    "# bl_1 = convert(Vector{Any},bl_1)\n",
    "# bl_2 = convert(Vector{Any},bl_2)\n",
    "\n",
    "for stack ∈ 1:stacks\n",
    "    \n",
    "    dealer_cards = make_decks(num_decks,card_types)\n",
    "    \n",
    "    \n",
    "    while length(dealer_cards) > 20\n",
    "        \n",
    "        current_players = 3*ones(1,players)\n",
    "        \n",
    "        dealer_hand = []\n",
    "        player_hands = [[] for player ∈ 1:players]\n",
    "#         dealer_hand = convert(Vector{Any},dealer_hand)\n",
    "#         player_hands = convert(Vector{Any},player_hands)\n",
    "        \n",
    "        #Deal First card\n",
    "        \n",
    "        for i ∈ 1:players\n",
    "            append!(player_hands[i],dealer_cards[1])\n",
    "            popfirst!(dealer_cards)\n",
    "        end\n",
    "        append!(dealer_hand,dealer_cards[1])\n",
    "        popfirst!(dealer_cards)\n",
    "        \n",
    "        #Deal Second card\n",
    "        \n",
    "        for i ∈ 1:players\n",
    "            append!(player_hands[i],dealer_cards[1])\n",
    "            popfirst!(dealer_cards)\n",
    "        end\n",
    "        append!(dealer_hand,dealer_cards[1])\n",
    "        popfirst!(dealer_cards)\n",
    "        \n",
    "        \n",
    "        cards_dealt = 2\n",
    "        \n",
    "        #Check for 21\n",
    "\n",
    "        #println(\"Dealer hand initially: \",dealer_hand)\n",
    "        println(\"Player hands initially:\")\n",
    "        println([player_names; player_hands)\n",
    "            \n",
    "        \n",
    "        \n",
    "        if total_up(dealer_hand) == 21 #blackjack #['A',10] || [10,'A']\n",
    "            for j ∈ 1:players\n",
    "                if total_up(player_hands[j]) != 21 #['A',10] || [10,'A']\n",
    "                    current_players[j] = -1\n",
    "                else\n",
    "                    current_players[j] = 0\n",
    "                end\n",
    "            end\n",
    "            \n",
    "        else\n",
    "            \n",
    "            for k ∈ 1:players\n",
    "                if total_up(player_hands[k]) == 21 #blackjack #['A',10] || [10,'A']\n",
    "                    current_players[k] = 1\n",
    "                end\n",
    "            end\n",
    "            \n",
    "            \n",
    "            while cards_dealt < 5\n",
    "                cards_dealt += 1\n",
    "                for z ∈ 1:players\n",
    "                    if current_players[z] > 2\n",
    "                        ran_number = rand()\n",
    "                        if total_up(player_hands[z]) <= 11\n",
    "                            append!(player_hands[z],dealer_cards[1])\n",
    "                            popfirst!(dealer_cards)\n",
    "                        else\n",
    "                            if gaming == \"N\"\n",
    "                                if ran_number < 0.5\n",
    "                                    current_players[z] = 0\n",
    "                                else\n",
    "                                    #println(ran_number)\n",
    "                                    append!(player_hands[z],dealer_cards[1])\n",
    "                                    popfirst!(dealer_cards)\n",
    "                                    #println(player_hands[z])\n",
    "                                end\n",
    "                            else\n",
    "                                decision = 0\n",
    "                                while decision != \"Y\" || \"N\"\n",
    "                                    decision = strip(uppercase(input\n",
    "                                    (\"Draw another card \",player_name[z],\": yes or no?\")))[1]\n",
    "                                end\n",
    "                                if decision == \"N\"\n",
    "                                    current_players[z] = 0\n",
    "                                else\n",
    "                                    append!(player_hands[z],dealer_cards[1])\n",
    "                                    popfirst!(dealer_cards)\n",
    "                                end\n",
    "                            end\n",
    "                                    \n",
    "\n",
    "                        end\n",
    "                    end\n",
    "\n",
    "                    if total_up(player_hands[z]) == 21\n",
    "                        current_players[z] = 0\n",
    "                    end\n",
    "\n",
    "                    if total_up(player_hands[z]) > 21\n",
    "                        current_players[z] = -1\n",
    "                    end\n",
    "\n",
    "                end\n",
    "            end\n",
    "        \n",
    "            \n",
    "            \n",
    "            if five_card_win == true\n",
    "                for n ∈ 1:players\n",
    "                    if length(player_hands[n]) == 5 && current_players[n] != -1\n",
    "                        current_players[n] = 1\n",
    "                    end\n",
    "                end\n",
    "            end\n",
    "\n",
    "            # dealer hits until bust or at least 17\n",
    "\n",
    "            while total_up(dealer_hand) < 17\n",
    "                append!(dealer_hand,dealer_cards[1])\n",
    "                popfirst!(dealer_cards)\n",
    "            end\n",
    "\n",
    "            if total_up(dealer_hand) > 21\n",
    "                for l ∈ 1:players\n",
    "                    if current_players[l] != -1\n",
    "                        current_players[l] = 1\n",
    "                    end\n",
    "                end\n",
    "            else\n",
    "                for m ∈ 1:players\n",
    "                    if current_players[m] != 1\n",
    "                        if total_up(player_hands[m]) > total_up(dealer_hand)\n",
    "                            current_players[m] = 1\n",
    "                        elseif total_up(player_hands[m]) == total_up(dealer_hand)\n",
    "                            current_players[m] = 0\n",
    "                        else\n",
    "                            current_players[m] = -1\n",
    "                        end\n",
    "                    end\n",
    "                end\n",
    "            end\n",
    "            \n",
    "            \n",
    "            \n",
    "        end\n",
    "        \n",
    "        println()\n",
    "        println(\"Dealer hand: \",dealer_hand)\n",
    "        println(\"Player hands: \",player_hands)\n",
    "        \n",
    "        println(\"Result: \",current_players)\n",
    "        println(\"--------------------------------------------------------\")\n",
    "        println()\n",
    "                        \n",
    "        \n",
    "    end\n",
    "\n",
    "end\n",
    "\n",
    "\n"
   ]
  },
  {
   "cell_type": "code",
   "execution_count": null,
   "id": "f5d16156",
   "metadata": {},
   "outputs": [],
   "source": []
  },
  {
   "cell_type": "code",
   "execution_count": 219,
   "id": "782f3dfa",
   "metadata": {},
   "outputs": [
    {
     "data": {
      "text/plain": [
       "2×3 Matrix{Float64}:\n",
       " 0.0  0.0  0.0\n",
       " 0.0  0.0  0.0"
      ]
     },
     "execution_count": 219,
     "metadata": {},
     "output_type": "execute_result"
    }
   ],
   "source": [
    "zeros(2,3)"
   ]
  },
  {
   "cell_type": "code",
   "execution_count": 220,
   "id": "bbf737ae",
   "metadata": {},
   "outputs": [
    {
     "data": {
      "text/plain": [
       "2×2×2×2 Array{Float64, 4}:\n",
       "[:, :, 1, 1] =\n",
       " 0.0  0.0\n",
       " 0.0  0.0\n",
       "\n",
       "[:, :, 2, 1] =\n",
       " 0.0  0.0\n",
       " 0.0  0.0\n",
       "\n",
       "[:, :, 1, 2] =\n",
       " 0.0  0.0\n",
       " 0.0  0.0\n",
       "\n",
       "[:, :, 2, 2] =\n",
       " 0.0  0.0\n",
       " 0.0  0.0"
      ]
     },
     "execution_count": 220,
     "metadata": {},
     "output_type": "execute_result"
    }
   ],
   "source": [
    "zeros(2,2,2,2)"
   ]
  },
  {
   "cell_type": "code",
   "execution_count": 37,
   "id": "4335a393",
   "metadata": {},
   "outputs": [
    {
     "ename": "LoadError",
     "evalue": "MethodError: no method matching zeros(; length=3, dims=3)\n\u001b[0mClosest candidates are:\n\u001b[0m  zeros(\u001b[91m::Tuple{Vararg{Union{Integer, AbstractUnitRange}}}\u001b[39m) at /opt/julia-1.7.2/share/julia/base/array.jl:522\u001b[91m got unsupported keyword arguments \"length\", \"dims\"\u001b[39m\n\u001b[0m  zeros(\u001b[91m::Type{StaticArrays.MVector{N}}\u001b[39m) where N at ~/.julia/packages/StaticArrays/12k3X/src/MVector.jl:25\u001b[91m got unsupported keyword arguments \"length\", \"dims\"\u001b[39m\n\u001b[0m  zeros(\u001b[91m::Type{StaticArrays.SVector{N}}\u001b[39m) where N at ~/.julia/packages/StaticArrays/12k3X/src/SVector.jl:32\u001b[91m got unsupported keyword arguments \"length\", \"dims\"\u001b[39m\n\u001b[0m  ...",
     "output_type": "error",
     "traceback": [
      "MethodError: no method matching zeros(; length=3, dims=3)\n\u001b[0mClosest candidates are:\n\u001b[0m  zeros(\u001b[91m::Tuple{Vararg{Union{Integer, AbstractUnitRange}}}\u001b[39m) at /opt/julia-1.7.2/share/julia/base/array.jl:522\u001b[91m got unsupported keyword arguments \"length\", \"dims\"\u001b[39m\n\u001b[0m  zeros(\u001b[91m::Type{StaticArrays.MVector{N}}\u001b[39m) where N at ~/.julia/packages/StaticArrays/12k3X/src/MVector.jl:25\u001b[91m got unsupported keyword arguments \"length\", \"dims\"\u001b[39m\n\u001b[0m  zeros(\u001b[91m::Type{StaticArrays.SVector{N}}\u001b[39m) where N at ~/.julia/packages/StaticArrays/12k3X/src/SVector.jl:32\u001b[91m got unsupported keyword arguments \"length\", \"dims\"\u001b[39m\n\u001b[0m  ...",
      "",
      "Stacktrace:",
      " [1] top-level scope",
      "   @ In[37]:1",
      " [2] eval",
      "   @ ./boot.jl:373 [inlined]",
      " [3] include_string(mapexpr::typeof(REPL.softscope), mod::Module, code::String, filename::String)",
      "   @ Base ./loading.jl:1196"
     ]
    }
   ],
   "source": [
    "zeros(length=3,dims = 3)"
   ]
  },
  {
   "cell_type": "code",
   "execution_count": 48,
   "id": "3a6a51f0",
   "metadata": {},
   "outputs": [
    {
     "name": "stdout",
     "output_type": "stream",
     "text": [
      "[1.0 0.0; 0.0 0.0]"
     ]
    }
   ],
   "source": [
    "x = zeros(2,2)\n",
    "x[1,1] = 1\n",
    "print(x)"
   ]
  },
  {
   "cell_type": "code",
   "execution_count": 59,
   "id": "dc2510a0",
   "metadata": {},
   "outputs": [
    {
     "data": {
      "text/plain": [
       "1"
      ]
     },
     "execution_count": 59,
     "metadata": {},
     "output_type": "execute_result"
    }
   ],
   "source": [
    "Int(2^1 * 0.5)"
   ]
  },
  {
   "cell_type": "code",
   "execution_count": 136,
   "id": "3fc1d686",
   "metadata": {},
   "outputs": [
    {
     "name": "stdout",
     "output_type": "stream",
     "text": [
      "1\n",
      "4\n",
      "2\n",
      "5\n",
      "3\n",
      "6\n"
     ]
    }
   ],
   "source": [
    "a = [1 2 3; 4 5 6]\n",
    "#print(length(a))\n",
    "b = a[a.>3]\n",
    "\n",
    "# print(a)\n",
    "\n",
    "# c = sum(a)\n",
    "\n",
    "# print(b)\n",
    "# print(c)\n",
    "\n",
    "\n",
    "\n",
    "\n",
    "\n",
    "for i ∈ a\n",
    "    println(i)\n",
    "end"
   ]
  },
  {
   "cell_type": "code",
   "execution_count": 96,
   "id": "b0e70ec9",
   "metadata": {},
   "outputs": [
    {
     "data": {
      "text/plain": [
       "55"
      ]
     },
     "execution_count": 96,
     "metadata": {},
     "output_type": "execute_result"
    }
   ],
   "source": [
    "c = 1:10\n",
    "sum(c)"
   ]
  },
  {
   "cell_type": "code",
   "execution_count": 119,
   "id": "e2463a76",
   "metadata": {},
   "outputs": [
    {
     "name": "stdout",
     "output_type": "stream",
     "text": [
      "[1.0, 1.0, 1.0]"
     ]
    }
   ],
   "source": [
    "t= ones(2,3)\n",
    "print(t[1,:])"
   ]
  },
  {
   "cell_type": "code",
   "execution_count": 146,
   "id": "1745bf23",
   "metadata": {},
   "outputs": [
    {
     "name": "stdout",
     "output_type": "stream",
     "text": [
      "[2 3 4; 1 2 3]"
     ]
    }
   ],
   "source": [
    "a = [[2 3 4] ;[1 2 3]]\n",
    "print(a)"
   ]
  },
  {
   "cell_type": "code",
   "execution_count": 364,
   "id": "f37f397f",
   "metadata": {},
   "outputs": [
    {
     "name": "stdout",
     "output_type": "stream",
     "text": [
      "Any[1, 2, 1, 1, 3, 2, 2, 1, 3, 3, 2, 3]\n",
      "2\n",
      "1\n",
      "1\n",
      "3\n",
      "2\n",
      "2\n",
      "1\n"
     ]
    }
   ],
   "source": [
    "c = [1,2,3]\n",
    "d  = make_decks(1,c)\n",
    "println(d)\n",
    "for i ∈ 1:7\n",
    "    popfirst!(d)\n",
    "    println(d[1])\n",
    "end"
   ]
  },
  {
   "cell_type": "code",
   "execution_count": 191,
   "id": "685c87ca",
   "metadata": {},
   "outputs": [
    {
     "name": "stdout",
     "output_type": "stream",
     "text": [
      "Vector{Any}[[], [], []]"
     ]
    },
    {
     "ename": "LoadError",
     "evalue": "UndefVarError: player not defined",
     "output_type": "error",
     "traceback": [
      "UndefVarError: player not defined",
      "",
      "Stacktrace:",
      " [1] top-level scope",
      "   @ In[191]:5",
      " [2] eval",
      "   @ ./boot.jl:373 [inlined]",
      " [3] include_string(mapexpr::typeof(REPL.softscope), mod::Module, code::String, filename::String)",
      "   @ Base ./loading.jl:1196"
     ]
    }
   ],
   "source": [
    "players = 3\n",
    "dealer_hands = [[] for player ∈ 1:players]\n",
    "print(dealer_hands)\n",
    "\n",
    "println(enumerate(dealer_hands[player]))"
   ]
  },
  {
   "cell_type": "code",
   "execution_count": 188,
   "id": "e4101496",
   "metadata": {},
   "outputs": [
    {
     "name": "stdout",
     "output_type": "stream",
     "text": [
      "Vector{Int64}Any[3, 4, Any[]]"
     ]
    }
   ],
   "source": [
    "enumerate([3,4][1])\n",
    "z = [3,4]\n",
    "print(typeof(z))\n",
    "z = convert(Vector{Any},z)\n",
    "append!(z,[[]])\n",
    "print(z)"
   ]
  },
  {
   "cell_type": "code",
   "execution_count": 194,
   "id": "ca5c9f19",
   "metadata": {},
   "outputs": [
    {
     "name": "stdout",
     "output_type": "stream",
     "text": [
      "[4]"
     ]
    }
   ],
   "source": [
    "z = [3,4]\n",
    "popfirst!(z)\n",
    "print(z)"
   ]
  },
  {
   "cell_type": "code",
   "execution_count": 203,
   "id": "be68bbe3",
   "metadata": {},
   "outputs": [
    {
     "data": {
      "text/plain": [
       "1×4 Matrix{Float64}:\n",
       " 3.0  3.0  3.0  3.0"
      ]
     },
     "execution_count": 203,
     "metadata": {},
     "output_type": "execute_result"
    }
   ],
   "source": [
    "3*ones(1,4)"
   ]
  },
  {
   "cell_type": "code",
   "execution_count": 211,
   "id": "a1048689",
   "metadata": {},
   "outputs": [
    {
     "name": "stdout",
     "output_type": "stream",
     "text": [
      "true"
     ]
    }
   ],
   "source": [
    "a = 'A'\n",
    "if a == 'A'\n",
    "    print(\"true\")\n",
    "end"
   ]
  },
  {
   "cell_type": "code",
   "execution_count": 241,
   "id": "d1d28d1b",
   "metadata": {},
   "outputs": [
    {
     "name": "stdout",
     "output_type": "stream",
     "text": [
      "Set(Any['A', 10])\n",
      "A\n",
      "10\n"
     ]
    }
   ],
   "source": [
    "blackjack = Set(['A',10])\n",
    "z = ['A',10]\n",
    "if ['A',10] == blackjack\n",
    "    print(\"true\")\n",
    "elseif [10,'A'] == blackjack\n",
    "    print(\"false\")\n",
    "elseif 10 == blackjack\n",
    "    print(\"yes\")\n",
    "elseif 'A' == blackjack\n",
    "    print(\"no\")\n",
    "elseif z == blackjack\n",
    "    print(z)\n",
    "    \n",
    "end\n",
    "    \n",
    "        \n",
    "println(blackjack)\n",
    "\n",
    "\n",
    "for i in blackjack\n",
    "    println(i)\n",
    "end"
   ]
  },
  {
   "cell_type": "code",
   "execution_count": 397,
   "id": "4960207d",
   "metadata": {},
   "outputs": [
    {
     "name": "stdout",
     "output_type": "stream",
     "text": [
      "52\n",
      "51\n"
     ]
    }
   ],
   "source": [
    "stacks = 1\n",
    "players = 2\n",
    "num_decks = 1\n",
    "five_card_win = true\n",
    "\n",
    "card_types = ['A',2,3,4,5,6,7,8,9,10,10,10,10]\n",
    "\n",
    "#blackjack = Set(['A',10])\n",
    "# bl_1 = ['A',10]\n",
    "# bl_2 = [10,'A']\n",
    "# bl_1 = convert(Vector{Any},bl_1)\n",
    "# bl_2 = convert(Vector{Any},bl_2)\n",
    "\n",
    "\n",
    "    \n",
    "dealer_cards = make_decks(num_decks,card_types)\n",
    "\n",
    "println(length(dealer_cards))\n",
    "popfirst!(dealer_cards)\n",
    "println(length(dealer_cards))\n",
    "\n",
    "# current_players = 3*ones(1,players)\n",
    "\n",
    "\n",
    "\n",
    "# dealer_hand = []\n",
    "# player_hands = [[] for player ∈ 1:players]\n",
    "# #         dealer_hand = convert(Vector{Any},dealer_hand)\n",
    "# #         player_hands = convert(Vector{Any},player_hands)\n",
    "\n",
    "# #Deal First card\n",
    "\n",
    "# for i ∈ 1:players\n",
    "#     append!(player_hands[i],dealer_cards[1])\n",
    "#     popfirst!(dealer_cards)\n",
    "# end\n",
    "# append!(dealer_hand,dealer_cards[1])\n",
    "# popfirst!(dealer_cards)\n",
    "\n",
    "\n",
    "# println(player_hands)\n",
    "\n",
    "# #Deal Second card\n",
    "\n",
    "# for i ∈ 1:players\n",
    "#     append!(player_hands[i],dealer_cards[1])\n",
    "#     popfirst!(dealer_cards)\n",
    "# end\n",
    "# append!(dealer_hand,dealer_cards[1])\n",
    "# popfirst!(dealer_cards)\n",
    "\n",
    "# cards_dealt = 2\n",
    "\n",
    "# #Check for 21\n",
    "# #print(dealer_hand)\n",
    "\n",
    "# println(player_hands)\n",
    "\n",
    "# # if total_up(dealer_hand) == 21 #blackjack #['A',10] || [10,'A']\n",
    "# #     for j ∈ 1:players\n",
    "# #         if total_up(player_hands[j]) != 21 #['A',10] || [10,'A']\n",
    "# #             current_players[1,j] = -1\n",
    "# #         else\n",
    "# #             current_players[1,j] = 0\n",
    "# #         end\n",
    "# #     end\n",
    "# # end\n",
    "\n",
    "\n",
    "# for z ∈ 1:players\n",
    "#     ran_number = rand()\n",
    "#     print(ran_number)\n",
    "#     if ran_number > 0.5\n",
    "#         append!(player_hands[z],dealer_cards[1])\n",
    "#         popfirst!(dealer_cards)\n",
    "#     else\n",
    "#         current_players[z] = 0\n",
    "#     end\n",
    "# end\n",
    "\n",
    "# print(current_players)"
   ]
  },
  {
   "cell_type": "code",
   "execution_count": 396,
   "id": "b9b89d72",
   "metadata": {},
   "outputs": [
    {
     "name": "stdout",
     "output_type": "stream",
     "text": [
      "3.03"
     ]
    },
    {
     "ename": "LoadError",
     "evalue": "UndefVarError: ran_number not defined",
     "output_type": "error",
     "traceback": [
      "UndefVarError: ran_number not defined",
      "",
      "Stacktrace:",
      " [1] top-level scope",
      "   @ In[396]:6",
      " [2] eval",
      "   @ ./boot.jl:373 [inlined]",
      " [3] include_string(mapexpr::typeof(REPL.softscope), mod::Module, code::String, filename::String)",
      "   @ Base ./loading.jl:1196"
     ]
    }
   ],
   "source": [
    "current_players = 3*ones(1,3)\n",
    "print(current_players[3])\n",
    "print(length(current_players))\n",
    "\n",
    "\n",
    "if ran_number > 0.5\n",
    "    append!(player_hands[z],dealer_cards[1])\n",
    "    popfirst!(dealer_cards)\n",
    "else\n",
    "    current_players[z] = 0\n",
    "end"
   ]
  },
  {
   "cell_type": "code",
   "execution_count": 323,
   "id": "fc72d458",
   "metadata": {},
   "outputs": [
    {
     "data": {
      "text/plain": [
       "0.9112387876817758"
      ]
     },
     "execution_count": 323,
     "metadata": {},
     "output_type": "execute_result"
    }
   ],
   "source": [
    "rand()"
   ]
  },
  {
   "cell_type": "code",
   "execution_count": 482,
   "id": "25ac5eff",
   "metadata": {},
   "outputs": [
    {
     "name": "stdout",
     "output_type": "stream",
     "text": [
      "     HELLO I AM RETARD "
     ]
    },
    {
     "data": {
      "text/plain": [
       "'h': ASCII/Unicode U+0068 (category Ll: Letter, lowercase)"
      ]
     },
     "execution_count": 482,
     "metadata": {},
     "output_type": "execute_result"
    }
   ],
   "source": [
    "print(uppercase(\"     hello i am retard \"))\n",
    "strip(\"     hello i am retard \")[1]\n"
   ]
  },
  {
   "cell_type": "code",
   "execution_count": 486,
   "id": "2aa4dcb4",
   "metadata": {},
   "outputs": [
    {
     "ename": "LoadError",
     "evalue": "UndefVarError: input not defined",
     "output_type": "error",
     "traceback": [
      "UndefVarError: input not defined",
      "",
      "Stacktrace:",
      " [1] top-level scope",
      "   @ In[486]:1",
      " [2] eval",
      "   @ ./boot.jl:373 [inlined]",
      " [3] include_string(mapexpr::typeof(REPL.softscope), mod::Module, code::String, filename::String)",
      "   @ Base ./loading.jl:1196"
     ]
    }
   ],
   "source": [
    "print(input(\"henlo\"))"
   ]
  },
  {
   "cell_type": "code",
   "execution_count": 4,
   "id": "796c1cdc",
   "metadata": {},
   "outputs": [
    {
     "data": {
      "text/plain": [
       "input (generic function with 2 methods)"
      ]
     },
     "execution_count": 4,
     "metadata": {},
     "output_type": "execute_result"
    }
   ],
   "source": [
    "function input(prompt::AbstractString=\"\")\n",
    "    print(prompt)\n",
    "    return chomp(readline())\n",
    "end"
   ]
  },
  {
   "cell_type": "code",
   "execution_count": 5,
   "id": "87e33770",
   "metadata": {},
   "outputs": [
    {
     "name": "stdout",
     "output_type": "stream",
     "text": [
      "stdin> 30\n",
      "Enter your name: "
     ]
    },
    {
     "data": {
      "text/plain": [
       "\"30\""
      ]
     },
     "execution_count": 5,
     "metadata": {},
     "output_type": "execute_result"
    }
   ],
   "source": [
    "input(\"Enter your name: \")"
   ]
  },
  {
   "cell_type": "code",
   "execution_count": 4,
   "id": "e6e85c36",
   "metadata": {},
   "outputs": [
    {
     "name": "stdout",
     "output_type": "stream",
     "text": [
      "stdin> henlo\n",
      "Enter your nameYour name is henlo"
     ]
    }
   ],
   "source": [
    "print(\"Enter your name\")\n",
    "Input(\"Enter your name\")"
   ]
  },
  {
   "cell_type": "code",
   "execution_count": 1,
   "id": "e48b424b",
   "metadata": {},
   "outputs": [
    {
     "data": {
      "text/plain": [
       "sayhi (generic function with 1 method)"
      ]
     },
     "execution_count": 1,
     "metadata": {},
     "output_type": "execute_result"
    }
   ],
   "source": [
    "sayhi(name) = println(\"Hi $name, how are you?\")"
   ]
  },
  {
   "cell_type": "code",
   "execution_count": 2,
   "id": "5c0eea57",
   "metadata": {},
   "outputs": [
    {
     "name": "stdout",
     "output_type": "stream",
     "text": [
      "Hi dog, how are you?\n"
     ]
    }
   ],
   "source": [
    "sayhi(\"dog\")"
   ]
  },
  {
   "cell_type": "code",
   "execution_count": 10,
   "id": "7fbb5cae",
   "metadata": {},
   "outputs": [
    {
     "name": "stdout",
     "output_type": "stream",
     "text": [
      "stdin> duck\n",
      "Write your name\n",
      "Who is duck\n"
     ]
    }
   ],
   "source": [
    "begin\n",
    "    println(\"Write your name\")\n",
    "    name = readline()\n",
    "    println(\"Who is $name\")\n",
    "end"
   ]
  },
  {
   "cell_type": "code",
   "execution_count": null,
   "id": "5e19706a",
   "metadata": {},
   "outputs": [],
   "source": []
  }
 ],
 "metadata": {
  "kernelspec": {
   "display_name": "Julia 1.7.2",
   "language": "julia",
   "name": "julia-1.7"
  },
  "language_info": {
   "file_extension": ".jl",
   "mimetype": "application/julia",
   "name": "julia",
   "version": "1.7.2"
  }
 },
 "nbformat": 4,
 "nbformat_minor": 5
}
